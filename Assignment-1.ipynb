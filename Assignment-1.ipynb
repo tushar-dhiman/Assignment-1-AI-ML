{
 "cells": [
  {
   "cell_type": "code",
   "execution_count": 1,
   "id": "bc78ae80-47cb-457e-a6af-1b711fa59481",
   "metadata": {},
   "outputs": [],
   "source": [
    "# Task-1 Data Loading & Familiarization\n",
    "\n",
    "\n",
    "\n",
    "\n"
   ]
  },
  {
   "cell_type": "code",
   "execution_count": 18,
   "id": "aa924137-2044-4d2c-ad9a-e462eff43a92",
   "metadata": {},
   "outputs": [],
   "source": [
    "import pandas as pd\n",
    "from collections import Counter\n",
    "\n",
    "# Load the dataset\n",
    "df = pd.read_csv('/home/nashtech/Downloads/archive/netflix_titles.csv')"
   ]
  },
  {
   "cell_type": "code",
   "execution_count": 3,
   "id": "d5cc731c-0252-4281-82c8-22048aadf147",
   "metadata": {},
   "outputs": [
    {
     "name": "stdout",
     "output_type": "stream",
     "text": [
      "{'rows': 8807, 'column': 12, 'column_names': ['show_id', 'type', 'title', 'director', 'cast', 'country', 'date_added', 'release_year', 'rating', 'duration', 'listed_in', 'description']}\n"
     ]
    }
   ],
   "source": [
    "# Creating a pure function to print dataset info (no. of rows, columns and column names)\n",
    "def describe_dataset(df: pd.DataFrame) -> dict:\n",
    "    return{\n",
    "        \"rows\": df.shape[0],\n",
    "        \"column\": df.shape[1],\n",
    "        \"column_names\": df.columns.tolist()\n",
    "    }\n",
    "\n",
    "info = describe_dataset(df)\n",
    "print(info)\n",
    "    "
   ]
  },
  {
   "cell_type": "code",
   "execution_count": 4,
   "id": "095f2429-0e98-4044-8224-5f9ed3c2e890",
   "metadata": {},
   "outputs": [],
   "source": [
    "# Task-2  Functional Cleaning & Preprocessing\n",
    "\n",
    "\n",
    "\n"
   ]
  },
  {
   "cell_type": "code",
   "execution_count": 5,
   "id": "f0e8b4ce-7e3f-450b-a761-a494a31fba34",
   "metadata": {},
   "outputs": [],
   "source": [
    "def remove_incomplete_rows(df: pd.DataFrame) -> pd.DataFrame:\n",
    "    # Keeping rows where essential fields are not null\n",
    "    valid_rows = df[df['title'].notnull() & df['type'].notnull() & df['date_added'].notnull()]\n",
    "    return valid_rows.copy()"
   ]
  },
  {
   "cell_type": "code",
   "execution_count": 6,
   "id": "f6f239c0-236d-4a46-9007-4eda2ea3675d",
   "metadata": {},
   "outputs": [],
   "source": [
    "def normalize_columns(df: pd.DataFrame) -> pd.DataFrame:\n",
    "    cleaned_df = df.copy()\n",
    "\n",
    "    # Strip whitespace from all string columns\n",
    "    for col in cleaned_df.select_dtypes(include='object').columns:\n",
    "        cleaned_df[col] = cleaned_df[col].map(lambda x: x.strip() if isinstance(x, str) else x)\n",
    "\n",
    "    # Specific column transformations\n",
    "    cleaned_df['type'] = cleaned_df['type'].map(lambda x: x.lower() if isinstance(x, str) else x)\n",
    "    cleaned_df['title'] = cleaned_df['title'].map(lambda x: x.strip().lower() if isinstance(x, str) else x)\n",
    "\n",
    "    return cleaned_df\n"
   ]
  },
  {
   "cell_type": "code",
   "execution_count": 7,
   "id": "b25c9456-5aa9-4fff-864f-28e32aa70aa0",
   "metadata": {},
   "outputs": [],
   "source": [
    "def preprocess_dataset(df: pd.DataFrame) -> pd.DataFrame:\n",
    "    filtered_df = remove_incomplete_rows(df)\n",
    "    cleaned_df = normalize_columns(filtered_df)\n",
    "    return cleaned_df\n"
   ]
  },
  {
   "cell_type": "code",
   "execution_count": 8,
   "id": "b4a3a873-d5e3-4b17-b64a-94cd4bf7209d",
   "metadata": {},
   "outputs": [
    {
     "name": "stdout",
     "output_type": "stream",
     "text": [
      "     show_id     type                  title         director  \\\n",
      "0         s1    movie   dick johnson is dead  Kirsten Johnson   \n",
      "1         s2  tv show          blood & water              NaN   \n",
      "2         s3  tv show              ganglands  Julien Leclercq   \n",
      "3         s4  tv show  jailbirds new orleans              NaN   \n",
      "4         s5  tv show           kota factory              NaN   \n",
      "...      ...      ...                    ...              ...   \n",
      "8802   s8803    movie                 zodiac    David Fincher   \n",
      "8803   s8804  tv show            zombie dumb              NaN   \n",
      "8804   s8805    movie             zombieland  Ruben Fleischer   \n",
      "8805   s8806    movie                   zoom     Peter Hewitt   \n",
      "8806   s8807    movie                 zubaan      Mozez Singh   \n",
      "\n",
      "                                                   cast        country  \\\n",
      "0                                                   NaN  United States   \n",
      "1     Ama Qamata, Khosi Ngema, Gail Mabalane, Thaban...   South Africa   \n",
      "2     Sami Bouajila, Tracy Gotoas, Samuel Jouy, Nabi...            NaN   \n",
      "3                                                   NaN            NaN   \n",
      "4     Mayur More, Jitendra Kumar, Ranjan Raj, Alam K...          India   \n",
      "...                                                 ...            ...   \n",
      "8802  Mark Ruffalo, Jake Gyllenhaal, Robert Downey J...  United States   \n",
      "8803                                                NaN            NaN   \n",
      "8804  Jesse Eisenberg, Woody Harrelson, Emma Stone, ...  United States   \n",
      "8805  Tim Allen, Courteney Cox, Chevy Chase, Kate Ma...  United States   \n",
      "8806  Vicky Kaushal, Sarah-Jane Dias, Raaghav Chanan...          India   \n",
      "\n",
      "              date_added  release_year rating   duration  \\\n",
      "0     September 25, 2021          2020  PG-13     90 min   \n",
      "1     September 24, 2021          2021  TV-MA  2 Seasons   \n",
      "2     September 24, 2021          2021  TV-MA   1 Season   \n",
      "3     September 24, 2021          2021  TV-MA   1 Season   \n",
      "4     September 24, 2021          2021  TV-MA  2 Seasons   \n",
      "...                  ...           ...    ...        ...   \n",
      "8802   November 20, 2019          2007      R    158 min   \n",
      "8803        July 1, 2019          2018  TV-Y7  2 Seasons   \n",
      "8804    November 1, 2019          2009      R     88 min   \n",
      "8805    January 11, 2020          2006     PG     88 min   \n",
      "8806       March 2, 2019          2015  TV-14    111 min   \n",
      "\n",
      "                                              listed_in  \\\n",
      "0                                         Documentaries   \n",
      "1       International TV Shows, TV Dramas, TV Mysteries   \n",
      "2     Crime TV Shows, International TV Shows, TV Act...   \n",
      "3                                Docuseries, Reality TV   \n",
      "4     International TV Shows, Romantic TV Shows, TV ...   \n",
      "...                                                 ...   \n",
      "8802                     Cult Movies, Dramas, Thrillers   \n",
      "8803             Kids' TV, Korean TV Shows, TV Comedies   \n",
      "8804                            Comedies, Horror Movies   \n",
      "8805                 Children & Family Movies, Comedies   \n",
      "8806     Dramas, International Movies, Music & Musicals   \n",
      "\n",
      "                                            description  \n",
      "0     As her father nears the end of his life, filmm...  \n",
      "1     After crossing paths at a party, a Cape Town t...  \n",
      "2     To protect his family from a powerful drug lor...  \n",
      "3     Feuds, flirtations and toilet talk go down amo...  \n",
      "4     In a city of coaching centers known to train I...  \n",
      "...                                                 ...  \n",
      "8802  A political cartoonist, a crime reporter and a...  \n",
      "8803  While living alone in a spooky town, a young g...  \n",
      "8804  Looking to survive in a world taken over by zo...  \n",
      "8805  Dragged from civilian life, a former superhero...  \n",
      "8806  A scrappy but poor boy worms his way into a ty...  \n",
      "\n",
      "[8797 rows x 12 columns]\n"
     ]
    }
   ],
   "source": [
    "print(preprocess_dataset(df))"
   ]
  },
  {
   "cell_type": "code",
   "execution_count": 9,
   "id": "3ae69009-e41b-43e1-b2f1-c597404cc480",
   "metadata": {},
   "outputs": [],
   "source": [
    "# Task-3 Code Refactoring with FP Principles\n",
    "\n",
    "\n",
    "\n"
   ]
  },
  {
   "cell_type": "code",
   "execution_count": 10,
   "id": "0acf2e94-1eac-4d58-8d28-3fbb5614424e",
   "metadata": {},
   "outputs": [],
   "source": [
    "# Below it the transformation that has been applied to filter out the tv-shows on from the dataframe\n",
    "\n",
    "# Here the FP version is more readable and understandable as it is written in a separate function\n",
    "# and can be used multiple times when needed which also makes it modular"
   ]
  },
  {
   "cell_type": "code",
   "execution_count": 11,
   "id": "f9afba8b-d355-4bfd-a356-bdc4ed65fcaa",
   "metadata": {},
   "outputs": [
    {
     "name": "stdout",
     "output_type": "stream",
     "text": [
      "     show_id     type                  title         director  \\\n",
      "0         s2  TV Show          Blood & Water              NaN   \n",
      "1         s3  TV Show              Ganglands  Julien Leclercq   \n",
      "2         s4  TV Show  Jailbirds New Orleans              NaN   \n",
      "3         s5  TV Show           Kota Factory              NaN   \n",
      "4         s6  TV Show          Midnight Mass    Mike Flanagan   \n",
      "...      ...      ...                    ...              ...   \n",
      "2671   s8796  TV Show        Yu-Gi-Oh! Arc-V              NaN   \n",
      "2672   s8797  TV Show             Yunus Emre              NaN   \n",
      "2673   s8798  TV Show              Zak Storm              NaN   \n",
      "2674   s8801  TV Show     Zindagi Gulzar Hai              NaN   \n",
      "2675   s8804  TV Show            Zombie Dumb              NaN   \n",
      "\n",
      "                                                   cast  \\\n",
      "0     Ama Qamata, Khosi Ngema, Gail Mabalane, Thaban...   \n",
      "1     Sami Bouajila, Tracy Gotoas, Samuel Jouy, Nabi...   \n",
      "2                                                   NaN   \n",
      "3     Mayur More, Jitendra Kumar, Ranjan Raj, Alam K...   \n",
      "4     Kate Siegel, Zach Gilford, Hamish Linklater, H...   \n",
      "...                                                 ...   \n",
      "2671  Mike Liscio, Emily Bauer, Billy Bob Thompson, ...   \n",
      "2672  Gökhan Atalay, Payidar Tüfekçioglu, Baran Akbu...   \n",
      "2673  Michael Johnston, Jessica Gee-George, Christin...   \n",
      "2674  Sanam Saeed, Fawad Khan, Ayesha Omer, Mehreen ...   \n",
      "2675                                                NaN   \n",
      "\n",
      "                                            country          date_added  \\\n",
      "0                                      South Africa  September 24, 2021   \n",
      "1                                               NaN  September 24, 2021   \n",
      "2                                               NaN  September 24, 2021   \n",
      "3                                             India  September 24, 2021   \n",
      "4                                               NaN  September 24, 2021   \n",
      "...                                             ...                 ...   \n",
      "2671                                  Japan, Canada         May 1, 2018   \n",
      "2672                                         Turkey    January 17, 2017   \n",
      "2673  United States, France, South Korea, Indonesia  September 13, 2018   \n",
      "2674                                       Pakistan   December 15, 2016   \n",
      "2675                                            NaN        July 1, 2019   \n",
      "\n",
      "      release_year rating   duration  \\\n",
      "0             2021  TV-MA  2 Seasons   \n",
      "1             2021  TV-MA   1 Season   \n",
      "2             2021  TV-MA   1 Season   \n",
      "3             2021  TV-MA  2 Seasons   \n",
      "4             2021  TV-MA   1 Season   \n",
      "...            ...    ...        ...   \n",
      "2671          2015  TV-Y7  2 Seasons   \n",
      "2672          2016  TV-PG  2 Seasons   \n",
      "2673          2016  TV-Y7  3 Seasons   \n",
      "2674          2012  TV-PG   1 Season   \n",
      "2675          2018  TV-Y7  2 Seasons   \n",
      "\n",
      "                                              listed_in  \\\n",
      "0       International TV Shows, TV Dramas, TV Mysteries   \n",
      "1     Crime TV Shows, International TV Shows, TV Act...   \n",
      "2                                Docuseries, Reality TV   \n",
      "3     International TV Shows, Romantic TV Shows, TV ...   \n",
      "4                    TV Dramas, TV Horror, TV Mysteries   \n",
      "...                                                 ...   \n",
      "2671                             Anime Series, Kids' TV   \n",
      "2672                  International TV Shows, TV Dramas   \n",
      "2673                                           Kids' TV   \n",
      "2674  International TV Shows, Romantic TV Shows, TV ...   \n",
      "2675             Kids' TV, Korean TV Shows, TV Comedies   \n",
      "\n",
      "                                            description  \n",
      "0     After crossing paths at a party, a Cape Town t...  \n",
      "1     To protect his family from a powerful drug lor...  \n",
      "2     Feuds, flirtations and toilet talk go down amo...  \n",
      "3     In a city of coaching centers known to train I...  \n",
      "4     The arrival of a charismatic young priest brin...  \n",
      "...                                                 ...  \n",
      "2671  Now that he's discovered the Pendulum Summonin...  \n",
      "2672  During the Mongol invasions, Yunus Emre leaves...  \n",
      "2673  Teen surfer Zak Storm is mysteriously transpor...  \n",
      "2674  Strong-willed, middle-class Kashaf and carefre...  \n",
      "2675  While living alone in a spooky town, a young g...  \n",
      "\n",
      "[2676 rows x 12 columns]\n"
     ]
    }
   ],
   "source": [
    "#Procedural snippet\n",
    "\n",
    "# Create an empty list to collect valid rows\n",
    "filtered_rows = []\n",
    "\n",
    "# Loop through each row using iterrows()\n",
    "for _, row in df.iterrows():\n",
    "    if row['type'] == 'TV Show' and pd.notnull(row['title']):\n",
    "        filtered_rows.append(row)\n",
    "\n",
    "# -------------------------------------------------------------------------------------------------------------------------\n",
    "\n",
    "#FP version\n",
    "def is_valid_tv_show(row):\n",
    "    return row['type'] == 'TV Show' and pd.notnull(row['title'])\n",
    "\n",
    "# Filter rows\n",
    "filtered_rows = list(filter(is_valid_tv_show, df.to_dict('records')))\n",
    "\n",
    "# Convert back to DataFrame\n",
    "filtered_df = pd.DataFrame(filtered_rows)\n",
    "\n",
    "print(filtered_df)"
   ]
  },
  {
   "cell_type": "code",
   "execution_count": 12,
   "id": "1fe9bb41-e42d-4420-aeb1-49e180ea1546",
   "metadata": {},
   "outputs": [],
   "source": [
    "# Task - 4 (optional)  Mini Analysis\n",
    "# - Total TV Shows\n",
    "# - Avg. cast members\n",
    "# - Top 5 genres\n",
    "\n"
   ]
  },
  {
   "cell_type": "code",
   "execution_count": null,
   "id": "c2a97d99-5e6f-45b3-8866-54ac95d4be34",
   "metadata": {},
   "outputs": [],
   "source": [
    "total_tv_shows = len(filtered_df)\n"
   ]
  },
  {
   "cell_type": "code",
   "execution_count": 16,
   "id": "fb552af2-acf5-455f-9ffa-5973f87a1c1f",
   "metadata": {},
   "outputs": [],
   "source": [
    "# Use map to count cast members where cast is not null\n",
    "cast_counts = list(\n",
    "    map(lambda row: len(row['cast'].split(','))\n",
    "        if pd.notnull(row['cast']) else 0,\n",
    "        filtered_df.to_dict('records'))\n",
    ")\n",
    "\n",
    "average_cast = sum(cast_counts) / len(cast_counts)\n"
   ]
  },
  {
   "cell_type": "code",
   "execution_count": 19,
   "id": "e34e3adc-8d32-4803-85b0-f5526295ef3f",
   "metadata": {},
   "outputs": [],
   "source": [
    "\n",
    "\n",
    "# Flatten all genres into a list\n",
    "all_genres = [\n",
    "    genre.strip()\n",
    "    for row in filtered_df.to_dict('records')\n",
    "    if pd.notnull(row['listed_in'])\n",
    "    for genre in row['listed_in'].split(',')\n",
    "]\n",
    "\n",
    "genre_counts = Counter(all_genres)\n",
    "most_common_genres = genre_counts.most_common(5)\n"
   ]
  },
  {
   "cell_type": "code",
   "execution_count": 17,
   "id": "88edee65-16cf-4b0b-a7d3-02e129a97d5d",
   "metadata": {},
   "outputs": [
    {
     "name": "stdout",
     "output_type": "stream",
     "text": [
      "7.343423019431988\n"
     ]
    }
   ],
   "source": [
    "print(average_cast)"
   ]
  },
  {
   "cell_type": "code",
   "execution_count": null,
   "id": "62c592d4-27c9-4019-a799-8fc9ddc9dbd5",
   "metadata": {},
   "outputs": [],
   "source": []
  }
 ],
 "metadata": {
  "kernelspec": {
   "display_name": "Python 3 (ipykernel)",
   "language": "python",
   "name": "python3"
  },
  "language_info": {
   "codemirror_mode": {
    "name": "ipython",
    "version": 3
   },
   "file_extension": ".py",
   "mimetype": "text/x-python",
   "name": "python",
   "nbconvert_exporter": "python",
   "pygments_lexer": "ipython3",
   "version": "3.10.12"
  }
 },
 "nbformat": 4,
 "nbformat_minor": 5
}
